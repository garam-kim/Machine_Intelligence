{
 "cells": [
  {
   "cell_type": "code",
   "execution_count": 1,
   "id": "b2d53e62",
   "metadata": {},
   "outputs": [],
   "source": [
    "import numpy as np\n",
    "import matplotlib.pyplot as plt"
   ]
  },
  {
   "cell_type": "markdown",
   "id": "144d9275",
   "metadata": {},
   "source": [
    "1. Compute the cdf FX(x) of the desired pdf pX(x)\n",
    "2. Determine the inverse transformation F^-1.\n",
    "3. Sample uniformly distributed numbers (in [0,1]), z.\n",
    "4. Get the samples x = F^-1(~z) from X."
   ]
  },
  {
   "cell_type": "markdown",
   "id": "135dafe2",
   "metadata": {},
   "source": [
    "### Part (a) \n",
    "Following the procedure above, derive a formula to generate samples of a scalar random\n",
    "variable with a Laplacian distribution from uniformly distributed random numbers."
   ]
  },
  {
   "cell_type": "markdown",
   "id": "ce98d151",
   "metadata": {},
   "source": [
    "<img src=\"img_cdf.png\">"
   ]
  },
  {
   "cell_type": "code",
   "execution_count": 2,
   "id": "8c80dddd",
   "metadata": {},
   "outputs": [],
   "source": [
    "# pdf of Laplacian\n",
    "def pdf(mu, b, x):\n",
    "    return 1/(2*b)*np.exp(-np.sign(x-mu)/b)"
   ]
  },
  {
   "cell_type": "code",
   "execution_count": 3,
   "id": "6d578b28",
   "metadata": {},
   "outputs": [],
   "source": [
    "# cdf of Laplacian\n",
    "def fx(mu, b, x):\n",
    "    term1 = np.sign(x-mu)\n",
    "    term2 = (1-np.exp(-np.sign(x-mu)/b))\n",
    "    \n",
    "    return .5 + .5*term1*term2"
   ]
  },
  {
   "cell_type": "code",
   "execution_count": 4,
   "id": "480f0c13",
   "metadata": {},
   "outputs": [],
   "source": [
    "# inverse of cdf\n",
    "def f_inv(mu, b, u):\n",
    "    term1 = np.sign(u-.5)\n",
    "    if u>.5:\n",
    "        term2 = np.log(2-2*u)\n",
    "    else:\n",
    "        term2 = np.log(2*u)\n",
    "                \n",
    "    return mu - b*term1*term2"
   ]
  },
  {
   "cell_type": "code",
   "execution_count": 5,
   "id": "42d15ce7",
   "metadata": {},
   "outputs": [],
   "source": [
    "def u(sam_num):\n",
    "    u = np.random.uniform(0,1,sam_num)\n",
    "    return u"
   ]
  },
  {
   "cell_type": "markdown",
   "id": "9e3c85c6",
   "metadata": {},
   "source": [
    "### Part (b) \n",
    "Implement your procedure for verification and generate 500 samples for a Laplacian random\n",
    "variable X with a specific mean \\mu = 1 and scale parameter b = 2. \n",
    "\n",
    "Plot a density estimate\n",
    "(e.g. normalized histogram) for these samples overlayed with the pdf pX(x) from above."
   ]
  },
  {
   "cell_type": "code",
   "execution_count": 6,
   "id": "e876abec",
   "metadata": {},
   "outputs": [],
   "source": [
    "# sampling\n",
    "result = []\n",
    "s = u(500)\n",
    "for i in range(500):\n",
    "    result.append(f_inv(1,2,s[i]))   "
   ]
  },
  {
   "cell_type": "code",
   "execution_count": null,
   "id": "7beb13b5",
   "metadata": {},
   "outputs": [],
   "source": [
    "# outcome from pdf using inverse cdf\n",
    "outcome = []\n",
    "for i in range(500):\n",
    "      outcome.append(pdf(1,2,result[i]))"
   ]
  },
  {
   "cell_type": "code",
   "execution_count": 18,
   "id": "e17ac5bb",
   "metadata": {},
   "outputs": [
    {
     "data": {
      "image/png": "[encoded data removed]",
      "text/plain": [
       "<Figure size 432x288 with 1 Axes>"
      ]
     },
     "metadata": {
      "needs_background": "light"
     },
     "output_type": "display_data"
    }
   ],
   "source": [
    "plt.hist(result,30,color='y',density=True);\n",
    "\n",
    "loc, scale = 1, 2\n",
    "s = np.random.laplace(loc, scale, 500)\n",
    "hx, hy, _ = plt.hist(s, 30, density=True, alpha=.6)"
   ]
  }
 ],
 "metadata": {
  "kernelspec": {
   "display_name": "Python 3",
   "language": "python",
   "name": "python3"
  },
  "language_info": {
   "codemirror_mode": {
    "name": "ipython",
    "version": 3
   },
   "file_extension": ".py",
   "mimetype": "text/x-python",
   "name": "python",
   "nbconvert_exporter": "python",
   "pygments_lexer": "ipython3",
   "version": "3.7.6"
  }
 },
 "nbformat": 4,
 "nbformat_minor": 5
}
