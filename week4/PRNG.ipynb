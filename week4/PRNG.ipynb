{
 "cells": [
  {
   "cell_type": "code",
   "execution_count": 3,
   "metadata": {},
   "outputs": [],
   "source": [
    "import numpy as np\n",
    "import matplotlib.pyplot as plt"
   ]
  },
  {
   "cell_type": "code",
   "execution_count": 4,
   "metadata": {},
   "outputs": [
    {
     "name": "stdout",
     "output_type": "stream",
     "text": [
      "[[0.77132064 0.02075195 0.63364823 0.74880388 0.49850701 0.22479665]]\n"
     ]
    }
   ],
   "source": [
    "np.random.seed(10);\n",
    "print(np.random.uniform(low=0, high=1, size=(1,6)))"
   ]
  },
  {
   "cell_type": "markdown",
   "metadata": {},
   "source": [
    "# Linear congruential generator (LCG)\n",
    "\n",
    "seed $y_0 \\in \\overbrace{\\left\\{0,\\ldots,m-1\\right\\}}^{=:\\;\\mathcal{M}}$ with $m \\in \\mathbb{N}$\n",
    "\n",
    "$m$ controls the granularity,\n",
    "\n",
    "Determine next sample using: \n",
    "\\begin{equation}\n",
    "y_t = \\left( \\, a \\; y_{t-1} \\; + \\; b \\, \\right) \\, \\text{mod} \\; m,\n",
    "\\end{equation}\n",
    "\n",
    "where\\\\\n",
    "\\begin{itemize}\n",
    "\\item \n",
    "\\item $a \\in \\mathcal{M}$  is the multiplier,\n",
    "\\item $b \\in \\mathcal{M}$ is the increment.\n",
    "\\end{itemize}\n",
    "\n",
    "Then $u_i = \\frac{y_i}{m} \\approx \\,\\mathcal{U} \\in \\lbrack0, 1)$."
   ]
  },
  {
   "cell_type": "code",
   "execution_count": 40,
   "metadata": {},
   "outputs": [
    {
     "data": {
      "image/png": "[encoded data removed]",
      "text/plain": [
       "<matplotlib.figure.Figure at 0x7fc6902afb90>"
      ]
     },
     "metadata": {},
     "output_type": "display_data"
    }
   ],
   "source": [
    "m = 2**32\n",
    "a = 577     # multiplier\n",
    "b = 0       # increment\n",
    "yi = y0 = 1 # seed\n",
    "u = []\n",
    "for i in range(99999):\n",
    "    yi = (a*yi+b) % m\n",
    "    ui = 1.*yi/m\n",
    "    u.append(ui)\n",
    "\n",
    "n, bins, patches = plt.hist(u*10, 10, normed=True, facecolor='green', alpha=0.75)"
   ]
  }
 ],
 "metadata": {
  "kernelspec": {
   "display_name": "Python (py27)",
   "language": "python",
   "name": "py27"
  },
  "language_info": {
   "codemirror_mode": {
    "name": "ipython",
    "version": 2
   },
   "file_extension": ".py",
   "mimetype": "text/x-python",
   "name": "python",
   "nbconvert_exporter": "python",
   "pygments_lexer": "ipython2",
   "version": "2.7.14"
  },
  "latex_envs": {
   "LaTeX_envs_menu_present": true,
   "autoclose": false,
   "autocomplete": true,
   "bibliofile": "biblio.bib",
   "cite_by": "apalike",
   "current_citInitial": 1,
   "eqLabelWithNumbers": true,
   "eqNumInitial": 1,
   "hotkeys": {
    "equation": "Ctrl-E",
    "itemize": "Ctrl-I"
   },
   "labels_anchors": false,
   "latex_user_defs": false,
   "report_style_numbering": false,
   "user_envs_cfg": false
  },
  "toc": {
   "base_numbering": 1,
   "nav_menu": {},
   "number_sections": true,
   "sideBar": true,
   "skip_h1_title": false,
   "title_cell": "Table of Contents",
   "title_sidebar": "Contents",
   "toc_cell": false,
   "toc_position": {},
   "toc_section_display": true,
   "toc_window_display": false
  }
 },
 "nbformat": 4,
 "nbformat_minor": 2
}
