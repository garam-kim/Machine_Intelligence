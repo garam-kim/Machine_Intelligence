{
 "cells": [
  {
   "cell_type": "markdown",
   "id": "09e8ce7d",
   "metadata": {},
   "source": [
    "# Exercise 2.1: Preprocessing (1 point)\n",
    "\n",
    "\n",
    "\n",
    "\n",
    "### Part (a) \n",
    "Load the dataset pca2.csv. \n",
    "\n",
    "Compute the Principal Components PC1 and PC2 and plot the data in the coordinate system PC1 vs. PC2. \n",
    "\n",
    "– What do you observe?"
   ]
  },
  {
   "cell_type": "code",
   "execution_count": 1,
   "id": "bddf16d7",
   "metadata": {},
   "outputs": [],
   "source": [
    "import pandas as pd\n",
    "import numpy as np\n",
    "import matplotlib.pyplot as plt\n",
    "import warnings\n",
    "warnings.filterwarnings('ignore')\n"
   ]
  },
  {
   "cell_type": "code",
   "execution_count": 2,
   "id": "0631f70a",
   "metadata": {},
   "outputs": [
    {
     "data": {
      "text/html": [
       "<div>\n",
       "<style scoped>\n",
       "    .dataframe tbody tr th:only-of-type {\n",
       "        vertical-align: middle;\n",
       "    }\n",
       "\n",
       "    .dataframe tbody tr th {\n",
       "        vertical-align: top;\n",
       "    }\n",
       "\n",
       "    .dataframe thead th {\n",
       "        text-align: right;\n",
       "    }\n",
       "</style>\n",
       "<table border=\"1\" class=\"dataframe\">\n",
       "  <thead>\n",
       "    <tr style=\"text-align: right;\">\n",
       "      <th></th>\n",
       "      <th>X1</th>\n",
       "      <th>X2</th>\n",
       "    </tr>\n",
       "  </thead>\n",
       "  <tbody>\n",
       "    <tr>\n",
       "      <th>0</th>\n",
       "      <td>-0.460516</td>\n",
       "      <td>-0.599575</td>\n",
       "    </tr>\n",
       "    <tr>\n",
       "      <th>1</th>\n",
       "      <td>1.004258</td>\n",
       "      <td>1.213128</td>\n",
       "    </tr>\n",
       "    <tr>\n",
       "      <th>2</th>\n",
       "      <td>2.224446</td>\n",
       "      <td>-0.584735</td>\n",
       "    </tr>\n",
       "    <tr>\n",
       "      <th>3</th>\n",
       "      <td>0.242724</td>\n",
       "      <td>-0.499436</td>\n",
       "    </tr>\n",
       "    <tr>\n",
       "      <th>4</th>\n",
       "      <td>1.797815</td>\n",
       "      <td>2.457839</td>\n",
       "    </tr>\n",
       "    <tr>\n",
       "      <th>...</th>\n",
       "      <td>...</td>\n",
       "      <td>...</td>\n",
       "    </tr>\n",
       "    <tr>\n",
       "      <th>495</th>\n",
       "      <td>4.136336</td>\n",
       "      <td>1.205458</td>\n",
       "    </tr>\n",
       "    <tr>\n",
       "      <th>496</th>\n",
       "      <td>1.714758</td>\n",
       "      <td>1.671494</td>\n",
       "    </tr>\n",
       "    <tr>\n",
       "      <th>497</th>\n",
       "      <td>1.372055</td>\n",
       "      <td>1.499138</td>\n",
       "    </tr>\n",
       "    <tr>\n",
       "      <th>498</th>\n",
       "      <td>2.890225</td>\n",
       "      <td>1.812162</td>\n",
       "    </tr>\n",
       "    <tr>\n",
       "      <th>499</th>\n",
       "      <td>2.578119</td>\n",
       "      <td>1.734327</td>\n",
       "    </tr>\n",
       "  </tbody>\n",
       "</table>\n",
       "<p>500 rows × 2 columns</p>\n",
       "</div>"
      ],
      "text/plain": [
       "           X1        X2\n",
       "0   -0.460516 -0.599575\n",
       "1    1.004258  1.213128\n",
       "2    2.224446 -0.584735\n",
       "3    0.242724 -0.499436\n",
       "4    1.797815  2.457839\n",
       "..        ...       ...\n",
       "495  4.136336  1.205458\n",
       "496  1.714758  1.671494\n",
       "497  1.372055  1.499138\n",
       "498  2.890225  1.812162\n",
       "499  2.578119  1.734327\n",
       "\n",
       "[500 rows x 2 columns]"
      ]
     },
     "execution_count": 2,
     "metadata": {},
     "output_type": "execute_result"
    }
   ],
   "source": [
    "data = pd.read_csv('pca2.csv')\n",
    "data"
   ]
  },
  {
   "cell_type": "code",
   "execution_count": 3,
   "id": "9593d5de",
   "metadata": {},
   "outputs": [
    {
     "data": {
      "text/html": [
       "<div>\n",
       "<style scoped>\n",
       "    .dataframe tbody tr th:only-of-type {\n",
       "        vertical-align: middle;\n",
       "    }\n",
       "\n",
       "    .dataframe tbody tr th {\n",
       "        vertical-align: top;\n",
       "    }\n",
       "\n",
       "    .dataframe thead th {\n",
       "        text-align: right;\n",
       "    }\n",
       "</style>\n",
       "<table border=\"1\" class=\"dataframe\">\n",
       "  <thead>\n",
       "    <tr style=\"text-align: right;\">\n",
       "      <th></th>\n",
       "      <th>X1</th>\n",
       "      <th>X2</th>\n",
       "    </tr>\n",
       "  </thead>\n",
       "  <tbody>\n",
       "    <tr>\n",
       "      <th>0</th>\n",
       "      <td>-1.411663</td>\n",
       "      <td>-1.612040</td>\n",
       "    </tr>\n",
       "    <tr>\n",
       "      <th>1</th>\n",
       "      <td>0.053112</td>\n",
       "      <td>0.200662</td>\n",
       "    </tr>\n",
       "    <tr>\n",
       "      <th>2</th>\n",
       "      <td>1.273300</td>\n",
       "      <td>-1.597200</td>\n",
       "    </tr>\n",
       "    <tr>\n",
       "      <th>3</th>\n",
       "      <td>-0.708422</td>\n",
       "      <td>-1.511901</td>\n",
       "    </tr>\n",
       "    <tr>\n",
       "      <th>4</th>\n",
       "      <td>0.846668</td>\n",
       "      <td>1.445373</td>\n",
       "    </tr>\n",
       "    <tr>\n",
       "      <th>...</th>\n",
       "      <td>...</td>\n",
       "      <td>...</td>\n",
       "    </tr>\n",
       "    <tr>\n",
       "      <th>495</th>\n",
       "      <td>3.185190</td>\n",
       "      <td>0.192993</td>\n",
       "    </tr>\n",
       "    <tr>\n",
       "      <th>496</th>\n",
       "      <td>0.763612</td>\n",
       "      <td>0.659029</td>\n",
       "    </tr>\n",
       "    <tr>\n",
       "      <th>497</th>\n",
       "      <td>0.420909</td>\n",
       "      <td>0.486672</td>\n",
       "    </tr>\n",
       "    <tr>\n",
       "      <th>498</th>\n",
       "      <td>1.939079</td>\n",
       "      <td>0.799696</td>\n",
       "    </tr>\n",
       "    <tr>\n",
       "      <th>499</th>\n",
       "      <td>1.626973</td>\n",
       "      <td>0.721861</td>\n",
       "    </tr>\n",
       "  </tbody>\n",
       "</table>\n",
       "<p>500 rows × 2 columns</p>\n",
       "</div>"
      ],
      "text/plain": [
       "           X1        X2\n",
       "0   -1.411663 -1.612040\n",
       "1    0.053112  0.200662\n",
       "2    1.273300 -1.597200\n",
       "3   -0.708422 -1.511901\n",
       "4    0.846668  1.445373\n",
       "..        ...       ...\n",
       "495  3.185190  0.192993\n",
       "496  0.763612  0.659029\n",
       "497  0.420909  0.486672\n",
       "498  1.939079  0.799696\n",
       "499  1.626973  0.721861\n",
       "\n",
       "[500 rows x 2 columns]"
      ]
     },
     "execution_count": 3,
     "metadata": {},
     "output_type": "execute_result"
    }
   ],
   "source": [
    "c_data = data - data.mean()\n",
    "c_data"
   ]
  },
  {
   "cell_type": "code",
   "execution_count": 4,
   "id": "18817f83",
   "metadata": {},
   "outputs": [
    {
     "data": {
      "image/png": "[encoded data removed]",
      "text/plain": [
       "<Figure size 432x288 with 1 Axes>"
      ]
     },
     "metadata": {
      "needs_background": "light"
     },
     "output_type": "display_data"
    }
   ],
   "source": [
    "plt.scatter(c_data['X1'], c_data['X2'],color = 'c')\n",
    "plt.grid()\n",
    "plt.xlabel(r'$x_1$', fontsize=20);\n",
    "plt.ylabel(r'$x_2$', fontsize=20, rotation='horizontal');\n",
    "plt.axhline(0, color='black');\n",
    "plt.axvline(0, color='black');"
   ]
  },
  {
   "cell_type": "code",
   "execution_count": 5,
   "id": "af566a6b",
   "metadata": {},
   "outputs": [
    {
     "data": {
      "text/html": [
       "<div>\n",
       "<style scoped>\n",
       "    .dataframe tbody tr th:only-of-type {\n",
       "        vertical-align: middle;\n",
       "    }\n",
       "\n",
       "    .dataframe tbody tr th {\n",
       "        vertical-align: top;\n",
       "    }\n",
       "\n",
       "    .dataframe thead th {\n",
       "        text-align: right;\n",
       "    }\n",
       "</style>\n",
       "<table border=\"1\" class=\"dataframe\">\n",
       "  <thead>\n",
       "    <tr style=\"text-align: right;\">\n",
       "      <th></th>\n",
       "      <th>X1</th>\n",
       "      <th>X2</th>\n",
       "    </tr>\n",
       "  </thead>\n",
       "  <tbody>\n",
       "    <tr>\n",
       "      <th>X1</th>\n",
       "      <td>2.744931</td>\n",
       "      <td>0.798481</td>\n",
       "    </tr>\n",
       "    <tr>\n",
       "      <th>X2</th>\n",
       "      <td>0.798481</td>\n",
       "      <td>1.619192</td>\n",
       "    </tr>\n",
       "  </tbody>\n",
       "</table>\n",
       "</div>"
      ],
      "text/plain": [
       "          X1        X2\n",
       "X1  2.744931  0.798481\n",
       "X2  0.798481  1.619192"
      ]
     },
     "execution_count": 5,
     "metadata": {},
     "output_type": "execute_result"
    }
   ],
   "source": [
    "cov_data = c_data.cov()\n",
    "cov_data"
   ]
  },
  {
   "cell_type": "code",
   "execution_count": 6,
   "id": "12838d5e",
   "metadata": {},
   "outputs": [
    {
     "name": "stdout",
     "output_type": "stream",
     "text": [
      "eigenvalue :\n",
      " [3.15899214 1.20513042]\n",
      "\n",
      "eigenvector :\n",
      " [[ 0.88773892 -0.46034728]\n",
      " [ 0.46034728  0.88773892]]\n"
     ]
    }
   ],
   "source": [
    "eigen_val, eigen_vec = np.linalg.eig(cov_data.apply(pd.to_numeric, errors='coerce'))\n",
    "print('eigenvalue :\\n', eigen_val)\n",
    "print('\\neigenvector :\\n', eigen_vec)"
   ]
  },
  {
   "cell_type": "code",
   "execution_count": 7,
   "id": "84f7e168",
   "metadata": {},
   "outputs": [
    {
     "data": {
      "image/png": "[encoded data removed]",
      "text/plain": [
       "<Figure size 720x360 with 2 Axes>"
      ]
     },
     "metadata": {
      "needs_background": "light"
     },
     "output_type": "display_data"
    }
   ],
   "source": [
    "fig, axs = plt.subplots(1,2,figsize=(10,5))\n",
    "colors = ['b', 'r']\n",
    "plot_colors = ['g--','y--']\n",
    "\n",
    "for j in range(2):\n",
    "    # project  \n",
    "    a = c_data.dot(eigen_vec[j])[:,np.newaxis]\n",
    "    e = eigen_vec[j]\n",
    "    x = (a * e)\n",
    "    #plt.scatter(c_data['X1'], c_data['X2'],color = 'c')\n",
    "\n",
    "    plt.sca(axs[j])\n",
    "    plt.scatter(x[:,0], x[:,1],color = colors[j])\n",
    "    plt.grid()\n",
    "    \n",
    "    plt.xlabel(r'$x_1$', fontsize=20);\n",
    "    plt.ylabel(r'$x_2$', fontsize=20, rotation='horizontal');\n",
    "    \n",
    "    h = np.arange(-6,6,.1)\n",
    "    i = eigen_vec[j][1]/eigen_vec[j][0]\n",
    "    plt.plot(h, i*h,plot_colors[j])\n",
    "    \n",
    "    plt.axvline(0, color='black');\n",
    "    plt.axhline(0, color='black');"
   ]
  },
  {
   "cell_type": "code",
   "execution_count": 8,
   "id": "57bfd6c7",
   "metadata": {},
   "outputs": [],
   "source": [
    "# rotate whole data\n",
    "# create rotation matrix\n",
    "theta = np.arctan2(eigen_vec[0][1],eigen_vec[0][0])\n",
    "\n",
    "r = np.array(( (np.cos(theta), -np.sin(theta)),\n",
    "               (np.sin(theta),  np.cos(theta)) ))"
   ]
  },
  {
   "cell_type": "code",
   "execution_count": 9,
   "id": "acb45a6f",
   "metadata": {},
   "outputs": [],
   "source": [
    "z3 = (c_data.dot(eigen_vec[0])[:,np.newaxis] * eigen_vec[0])\n",
    "z4 = (c_data.dot(eigen_vec[1])[:,np.newaxis] * eigen_vec[1])"
   ]
  },
  {
   "cell_type": "code",
   "execution_count": 10,
   "id": "96bcf1c1",
   "metadata": {},
   "outputs": [
    {
     "data": {
      "image/png": "[encoded data removed]",
      "text/plain": [
       "<Figure size 720x504 with 1 Axes>"
      ]
     },
     "metadata": {
      "needs_background": "light"
     },
     "output_type": "display_data"
    }
   ],
   "source": [
    "a1 = z3 @ r\n",
    "a2 = z4 @ r\n",
    "plt.figure(figsize=(10,7))\n",
    "plt.scatter(a1[:,0], a1[:,1],color = 'b')\n",
    "plt.scatter(a2[:,0], a2[:,1],color = 'c')\n",
    "axes = plt.gca()\n",
    "axes.set_xlim([-6,6])\n",
    "axes.set_ylim([-6,6])\n",
    "plt.grid()\n",
    "plt.axvline(0, color='black');\n",
    "plt.axhline(0, color='black');"
   ]
  },
  {
   "cell_type": "markdown",
   "id": "7b54a1eb",
   "metadata": {},
   "source": [
    "### part (b) \n",
    "Remove observations 17 and 157 (subtract 1 for zero-based indexing) and redo the above.\n",
    "\n",
    "– What is the difference?"
   ]
  },
  {
   "cell_type": "code",
   "execution_count": 11,
   "id": "7e24f69f",
   "metadata": {},
   "outputs": [],
   "source": [
    "data = data.drop(data.index[[16,156]])"
   ]
  },
  {
   "cell_type": "code",
   "execution_count": 12,
   "id": "630b7c81",
   "metadata": {},
   "outputs": [
    {
     "data": {
      "text/html": [
       "<div>\n",
       "<style scoped>\n",
       "    .dataframe tbody tr th:only-of-type {\n",
       "        vertical-align: middle;\n",
       "    }\n",
       "\n",
       "    .dataframe tbody tr th {\n",
       "        vertical-align: top;\n",
       "    }\n",
       "\n",
       "    .dataframe thead th {\n",
       "        text-align: right;\n",
       "    }\n",
       "</style>\n",
       "<table border=\"1\" class=\"dataframe\">\n",
       "  <thead>\n",
       "    <tr style=\"text-align: right;\">\n",
       "      <th></th>\n",
       "      <th>X1</th>\n",
       "      <th>X2</th>\n",
       "    </tr>\n",
       "  </thead>\n",
       "  <tbody>\n",
       "    <tr>\n",
       "      <th>0</th>\n",
       "      <td>-1.415482</td>\n",
       "      <td>-1.616107</td>\n",
       "    </tr>\n",
       "    <tr>\n",
       "      <th>1</th>\n",
       "      <td>0.049292</td>\n",
       "      <td>0.196596</td>\n",
       "    </tr>\n",
       "    <tr>\n",
       "      <th>2</th>\n",
       "      <td>1.269480</td>\n",
       "      <td>-1.601266</td>\n",
       "    </tr>\n",
       "    <tr>\n",
       "      <th>3</th>\n",
       "      <td>-0.712242</td>\n",
       "      <td>-1.515967</td>\n",
       "    </tr>\n",
       "    <tr>\n",
       "      <th>4</th>\n",
       "      <td>0.842849</td>\n",
       "      <td>1.441307</td>\n",
       "    </tr>\n",
       "    <tr>\n",
       "      <th>...</th>\n",
       "      <td>...</td>\n",
       "      <td>...</td>\n",
       "    </tr>\n",
       "    <tr>\n",
       "      <th>495</th>\n",
       "      <td>3.181370</td>\n",
       "      <td>0.188927</td>\n",
       "    </tr>\n",
       "    <tr>\n",
       "      <th>496</th>\n",
       "      <td>0.759792</td>\n",
       "      <td>0.654963</td>\n",
       "    </tr>\n",
       "    <tr>\n",
       "      <th>497</th>\n",
       "      <td>0.417089</td>\n",
       "      <td>0.482606</td>\n",
       "    </tr>\n",
       "    <tr>\n",
       "      <th>498</th>\n",
       "      <td>1.935260</td>\n",
       "      <td>0.795630</td>\n",
       "    </tr>\n",
       "    <tr>\n",
       "      <th>499</th>\n",
       "      <td>1.623153</td>\n",
       "      <td>0.717795</td>\n",
       "    </tr>\n",
       "  </tbody>\n",
       "</table>\n",
       "<p>498 rows × 2 columns</p>\n",
       "</div>"
      ],
      "text/plain": [
       "           X1        X2\n",
       "0   -1.415482 -1.616107\n",
       "1    0.049292  0.196596\n",
       "2    1.269480 -1.601266\n",
       "3   -0.712242 -1.515967\n",
       "4    0.842849  1.441307\n",
       "..        ...       ...\n",
       "495  3.181370  0.188927\n",
       "496  0.759792  0.654963\n",
       "497  0.417089  0.482606\n",
       "498  1.935260  0.795630\n",
       "499  1.623153  0.717795\n",
       "\n",
       "[498 rows x 2 columns]"
      ]
     },
     "execution_count": 12,
     "metadata": {},
     "output_type": "execute_result"
    }
   ],
   "source": [
    "c_data = data - data.mean()\n",
    "c_data"
   ]
  },
  {
   "cell_type": "code",
   "execution_count": 13,
   "id": "2cbbb786",
   "metadata": {},
   "outputs": [
    {
     "data": {
      "image/png": "[encoded data removed]",
      "text/plain": [
       "<Figure size 432x288 with 1 Axes>"
      ]
     },
     "metadata": {
      "needs_background": "light"
     },
     "output_type": "display_data"
    }
   ],
   "source": [
    "plt.scatter(c_data['X1'], c_data['X2'],color = 'c')\n",
    "plt.grid()\n",
    "plt.xlabel(r'$x_1$', fontsize=20);\n",
    "plt.ylabel(r'$x_2$', fontsize=20, rotation='horizontal');\n",
    "plt.axhline(0, color='black');\n",
    "plt.axvline(0, color='black');"
   ]
  },
  {
   "cell_type": "code",
   "execution_count": 14,
   "id": "dc15a177",
   "metadata": {},
   "outputs": [
    {
     "data": {
      "text/html": [
       "<div>\n",
       "<style scoped>\n",
       "    .dataframe tbody tr th:only-of-type {\n",
       "        vertical-align: middle;\n",
       "    }\n",
       "\n",
       "    .dataframe tbody tr th {\n",
       "        vertical-align: top;\n",
       "    }\n",
       "\n",
       "    .dataframe thead th {\n",
       "        text-align: right;\n",
       "    }\n",
       "</style>\n",
       "<table border=\"1\" class=\"dataframe\">\n",
       "  <thead>\n",
       "    <tr style=\"text-align: right;\">\n",
       "      <th></th>\n",
       "      <th>X1</th>\n",
       "      <th>X2</th>\n",
       "    </tr>\n",
       "  </thead>\n",
       "  <tbody>\n",
       "    <tr>\n",
       "      <th>X1</th>\n",
       "      <td>2.752321</td>\n",
       "      <td>0.797804</td>\n",
       "    </tr>\n",
       "    <tr>\n",
       "      <th>X2</th>\n",
       "      <td>0.797804</td>\n",
       "      <td>0.941486</td>\n",
       "    </tr>\n",
       "  </tbody>\n",
       "</table>\n",
       "</div>"
      ],
      "text/plain": [
       "          X1        X2\n",
       "X1  2.752321  0.797804\n",
       "X2  0.797804  0.941486"
      ]
     },
     "execution_count": 14,
     "metadata": {},
     "output_type": "execute_result"
    }
   ],
   "source": [
    "cov_data = c_data.cov()\n",
    "cov_data"
   ]
  },
  {
   "cell_type": "code",
   "execution_count": 15,
   "id": "93b751ac",
   "metadata": {},
   "outputs": [
    {
     "name": "stdout",
     "output_type": "stream",
     "text": [
      "eigenvalue :\n",
      " [3.05366443 0.64014267]\n",
      "\n",
      "eigenvector :\n",
      " [[ 0.93549122 -0.35334993]\n",
      " [ 0.35334993  0.93549122]]\n"
     ]
    }
   ],
   "source": [
    "eigen_val, eigen_vec = np.linalg.eig(cov_data.apply(pd.to_numeric, errors='coerce'))\n",
    "print('eigenvalue :\\n', eigen_val)\n",
    "print('\\neigenvector :\\n', eigen_vec)"
   ]
  },
  {
   "cell_type": "code",
   "execution_count": 16,
   "id": "11aebfc6",
   "metadata": {},
   "outputs": [
    {
     "data": {
      "image/png": "[encoded data removed]",
      "text/plain": [
       "<Figure size 720x360 with 2 Axes>"
      ]
     },
     "metadata": {
      "needs_background": "light"
     },
     "output_type": "display_data"
    }
   ],
   "source": [
    "fig, axs = plt.subplots(1,2,figsize=(10,5))\n",
    "colors = ['b', 'r']\n",
    "plot_colors = ['g--','y--']\n",
    "\n",
    "for j in range(2):\n",
    "    # project  \n",
    "    a = c_data.dot(eigen_vec[j])[:,np.newaxis]\n",
    "    e = eigen_vec[j]\n",
    "    x = (a * e)\n",
    "    #plt.scatter(c_data['X1'], c_data['X2'],color = 'c')\n",
    "\n",
    "    plt.sca(axs[j])\n",
    "    plt.scatter(x[:,0], x[:,1],color = colors[j])\n",
    "    plt.grid()\n",
    "    \n",
    "    plt.xlabel(r'$x_1$', fontsize=20);\n",
    "    plt.ylabel(r'$x_2$', fontsize=20, rotation='horizontal');\n",
    "    \n",
    "    h = np.arange(-6,6,.1)\n",
    "    i = eigen_vec[j][1]/eigen_vec[j][0]\n",
    "    plt.plot(h, i*h,plot_colors[j])\n",
    "    \n",
    "    plt.axvline(0, color='black');\n",
    "    plt.axhline(0, color='black');"
   ]
  },
  {
   "cell_type": "code",
   "execution_count": 17,
   "id": "2f84b634",
   "metadata": {},
   "outputs": [],
   "source": [
    "# rotate whole data\n",
    "# create rotation matrix\n",
    "theta = np.arctan2(eigen_vec[0][1],eigen_vec[0][0])\n",
    "\n",
    "r = np.array(( (np.cos(theta), -np.sin(theta)),\n",
    "               (np.sin(theta),  np.cos(theta)) ))"
   ]
  },
  {
   "cell_type": "code",
   "execution_count": 18,
   "id": "6a5161ba",
   "metadata": {},
   "outputs": [],
   "source": [
    "z3 = (c_data.dot(eigen_vec[0])[:,np.newaxis] * eigen_vec[0])\n",
    "z4 = (c_data.dot(eigen_vec[1])[:,np.newaxis] * eigen_vec[1])"
   ]
  },
  {
   "cell_type": "code",
   "execution_count": 19,
   "id": "b7a999d4",
   "metadata": {},
   "outputs": [
    {
     "data": {
      "image/png": "[encoded data removed]",
      "text/plain": [
       "<Figure size 720x504 with 1 Axes>"
      ]
     },
     "metadata": {
      "needs_background": "light"
     },
     "output_type": "display_data"
    }
   ],
   "source": [
    "a1 = z3 @ r\n",
    "a2 = z4 @ r\n",
    "plt.figure(figsize=(10,7))\n",
    "plt.scatter(a1[:,0], a1[:,1],color = 'b')\n",
    "plt.scatter(a2[:,0], a2[:,1],color = 'c')\n",
    "axes = plt.gca()\n",
    "axes.set_xlim([-6,6])\n",
    "axes.set_ylim([-6,6])\n",
    "plt.grid()\n",
    "plt.axvline(0, color='black');\n",
    "plt.axhline(0, color='black');"
   ]
  },
  {
   "cell_type": "code",
   "execution_count": null,
   "id": "09df52a5",
   "metadata": {},
   "outputs": [],
   "source": []
  }
 ],
 "metadata": {
  "kernelspec": {
   "display_name": "Python 3",
   "language": "python",
   "name": "python3"
  },
  "language_info": {
   "codemirror_mode": {
    "name": "ipython",
    "version": 3
   },
   "file_extension": ".py",
   "mimetype": "text/x-python",
   "name": "python",
   "nbconvert_exporter": "python",
   "pygments_lexer": "ipython3",
   "version": "3.7.6"
  }
 },
 "nbformat": 4,
 "nbformat_minor": 5
}
