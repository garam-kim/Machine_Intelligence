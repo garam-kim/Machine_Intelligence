{
 "cells": [
  {
   "cell_type": "markdown",
   "id": "c44dfa53",
   "metadata": {},
   "source": [
    "# Exercise 2.4: Oja’s Rule: Application\n",
    "\n",
    "The file data-onlinePCA.txt contains observations from an artificial experiment run over\n",
    "an interval of time (i.e. the first datapoint was observed at t0 = 0 and the last at tT = 10s)."
   ]
  },
  {
   "cell_type": "code",
   "execution_count": 9,
   "id": "69b4ede3",
   "metadata": {},
   "outputs": [],
   "source": [
    "import numpy as np\n",
    "import matplotlib.pyplot as plt\n",
    "import pandas as pd"
   ]
  },
  {
   "cell_type": "code",
   "execution_count": 12,
   "id": "50c3c0e2",
   "metadata": {},
   "outputs": [
    {
     "data": {
      "text/html": [
       "<div>\n",
       "<style scoped>\n",
       "    .dataframe tbody tr th:only-of-type {\n",
       "        vertical-align: middle;\n",
       "    }\n",
       "\n",
       "    .dataframe tbody tr th {\n",
       "        vertical-align: top;\n",
       "    }\n",
       "\n",
       "    .dataframe thead th {\n",
       "        text-align: right;\n",
       "    }\n",
       "</style>\n",
       "<table border=\"1\" class=\"dataframe\">\n",
       "  <thead>\n",
       "    <tr style=\"text-align: right;\">\n",
       "      <th></th>\n",
       "      <th>V1</th>\n",
       "      <th>V2</th>\n",
       "    </tr>\n",
       "  </thead>\n",
       "  <tbody>\n",
       "    <tr>\n",
       "      <th>0</th>\n",
       "      <td>-0.009734</td>\n",
       "      <td>0.224493</td>\n",
       "    </tr>\n",
       "    <tr>\n",
       "      <th>1</th>\n",
       "      <td>0.046447</td>\n",
       "      <td>1.577675</td>\n",
       "    </tr>\n",
       "    <tr>\n",
       "      <th>2</th>\n",
       "      <td>-0.095613</td>\n",
       "      <td>-0.443073</td>\n",
       "    </tr>\n",
       "    <tr>\n",
       "      <th>3</th>\n",
       "      <td>0.068041</td>\n",
       "      <td>-0.927732</td>\n",
       "    </tr>\n",
       "    <tr>\n",
       "      <th>4</th>\n",
       "      <td>-0.301380</td>\n",
       "      <td>1.868439</td>\n",
       "    </tr>\n",
       "    <tr>\n",
       "      <th>...</th>\n",
       "      <td>...</td>\n",
       "      <td>...</td>\n",
       "    </tr>\n",
       "    <tr>\n",
       "      <th>1995</th>\n",
       "      <td>0.370809</td>\n",
       "      <td>-0.398580</td>\n",
       "    </tr>\n",
       "    <tr>\n",
       "      <th>1996</th>\n",
       "      <td>-0.163260</td>\n",
       "      <td>0.156189</td>\n",
       "    </tr>\n",
       "    <tr>\n",
       "      <th>1997</th>\n",
       "      <td>0.358471</td>\n",
       "      <td>0.053041</td>\n",
       "    </tr>\n",
       "    <tr>\n",
       "      <th>1998</th>\n",
       "      <td>0.067959</td>\n",
       "      <td>-0.307401</td>\n",
       "    </tr>\n",
       "    <tr>\n",
       "      <th>1999</th>\n",
       "      <td>0.347337</td>\n",
       "      <td>-0.160808</td>\n",
       "    </tr>\n",
       "  </tbody>\n",
       "</table>\n",
       "<p>2000 rows × 2 columns</p>\n",
       "</div>"
      ],
      "text/plain": [
       "            V1        V2\n",
       "0    -0.009734  0.224493\n",
       "1     0.046447  1.577675\n",
       "2    -0.095613 -0.443073\n",
       "3     0.068041 -0.927732\n",
       "4    -0.301380  1.868439\n",
       "...        ...       ...\n",
       "1995  0.370809 -0.398580\n",
       "1996 -0.163260  0.156189\n",
       "1997  0.358471  0.053041\n",
       "1998  0.067959 -0.307401\n",
       "1999  0.347337 -0.160808\n",
       "\n",
       "[2000 rows x 2 columns]"
      ]
     },
     "execution_count": 12,
     "metadata": {},
     "output_type": "execute_result"
    }
   ],
   "source": [
    "data = pd.read_csv('data-onlinePCA.txt', delimiter = \",\")\n",
    "del data[data.columns[0]]\n",
    "data"
   ]
  },
  {
   "cell_type": "markdown",
   "id": "f8e881f2",
   "metadata": {},
   "source": [
    "### Part (a) \n",
    "Produce a scatter plot of the data and indicate the time index by the color of the datapoints.\n",
    "You can break the full dataset into 10 blocks corresponding to 1 second length each and use\n",
    "10 different colors, 1 color for each block.."
   ]
  },
  {
   "cell_type": "markdown",
   "id": "3b7555e9",
   "metadata": {},
   "source": [
    "<img src=\"ex2.4(a).jpeg\">"
   ]
  },
  {
   "cell_type": "code",
   "execution_count": 13,
   "id": "40e6c3b4",
   "metadata": {},
   "outputs": [],
   "source": [
    "colors=['#1f77b4', '#ff7f0e', '#2ca02c', '#d62728', '#9467bd', '#8c564b', '#e377c2', '#7f7f7f', '#bcbd22', '#17becf']"
   ]
  },
  {
   "cell_type": "code",
   "execution_count": 18,
   "id": "a4166d76",
   "metadata": {},
   "outputs": [
    {
     "data": {
      "image/png": "[encoded data removed]",
      "text/plain": [
       "<Figure size 432x288 with 1 Axes>"
      ]
     },
     "metadata": {
      "needs_background": "light"
     },
     "output_type": "display_data"
    }
   ],
   "source": [
    "for i in range(10):\n",
    "    index_start = 20*i\n",
    "    index_end = 20*i+19\n",
    "    plt.scatter(data['V1'][index_start:index_end],data['V2'][index_start:index_end],color = colors[i])"
   ]
  },
  {
   "cell_type": "markdown",
   "id": "e186e924",
   "metadata": {},
   "source": [
    "### Part (b) \n",
    "Determine the principal components (using batch PCA) for each of the 10 blocks separately.\n",
    "\n",
    "\n",
    "Plot the first PC for each block (e.g. as an arrow or the endpoint of it) together with the original data."
   ]
  },
  {
   "cell_type": "code",
   "execution_count": 75,
   "id": "56d41f6c",
   "metadata": {},
   "outputs": [
    {
     "data": {
      "image/png": "[encoded data removed]",
      "text/plain": [
       "<Figure size 432x288 with 1 Axes>"
      ]
     },
     "metadata": {
      "needs_background": "light"
     },
     "output_type": "display_data"
    }
   ],
   "source": [
    "for i in range(10):\n",
    "    index_start = 20*i\n",
    "    index_end = 20*i+19\n",
    "    df = data[index_start:index_end]\n",
    "    df = df-df.mean()\n",
    "    df_cov = df.cov()\n",
    "    eigen_val, eigen_vec = np.linalg.eigh(df_cov)\n",
    "    ind = np.where(eigen_val == eigen_val.max())[0][0]\n",
    "    plt.grid()\n",
    "    plt.arrow(0,0,eigen_vec[ind][0]*2.5,eigen_vec[ind][1]*2.5,head_width=0.04, head_length=.1, fc=colors[i], ec=colors[i])\n",
    "    plt.scatter(data['V1'][index_start:index_end],data['V2'][index_start:index_end],color = colors[i]) "
   ]
  },
  {
   "cell_type": "code",
   "execution_count": null,
   "id": "46616bda",
   "metadata": {},
   "outputs": [],
   "source": []
  },
  {
   "cell_type": "markdown",
   "id": "950bf963",
   "metadata": {},
   "source": [
    "### Part (c) \n",
    "\n",
    "Implement Oja’s rule and apply it with a learning rate parameter \\epsilon \\in {0.002,0.04,0.45} the dataset. In each iteration, take the next3 data point and apply the learning step. Plot the\n",
    "weights at each timestep (as points whose x vs. y coordinates are given by the weight for x\n",
    "and y) in the same plot as the original data (use the colors from (a) to indicate the time index\n",
    "for each plotted weight).\n",
    "Interpret your results.\n",
    "Total"
   ]
  },
  {
   "cell_type": "code",
   "execution_count": null,
   "id": "e64787db",
   "metadata": {},
   "outputs": [],
   "source": []
  }
 ],
 "metadata": {
  "kernelspec": {
   "display_name": "Python 3",
   "language": "python",
   "name": "python3"
  },
  "language_info": {
   "codemirror_mode": {
    "name": "ipython",
    "version": 3
   },
   "file_extension": ".py",
   "mimetype": "text/x-python",
   "name": "python",
   "nbconvert_exporter": "python",
   "pygments_lexer": "ipython3",
   "version": "3.7.6"
  }
 },
 "nbformat": 4,
 "nbformat_minor": 5
}
