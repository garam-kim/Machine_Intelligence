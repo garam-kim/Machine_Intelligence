{
 "cells": [
  {
   "cell_type": "markdown",
   "id": "186d9dbb",
   "metadata": {},
   "source": [
    "# Exercise H5.1: Initialization"
   ]
  },
  {
   "cell_type": "code",
   "execution_count": 1,
   "id": "0ccbcab8",
   "metadata": {},
   "outputs": [],
   "source": [
    "import numpy as np\n",
    "import pandas as pd\n",
    "import matplotlib.pyplot as plt"
   ]
  },
  {
   "cell_type": "markdown",
   "id": "8f1f4b45",
   "metadata": {},
   "source": [
    "### Part (a) \n",
    "Load the sound files. Each of the N = 2 sources is sampled at 8192 Hz and contains\n",
    "p = 18000 samples."
   ]
  },
  {
   "cell_type": "code",
   "execution_count": 2,
   "id": "07d8ccc2",
   "metadata": {},
   "outputs": [],
   "source": [
    "sound1 = []\n",
    "with open('./sounds/sound1.dat', 'r') as f:\n",
    "    lines = f.readlines()    \n",
    "    sound1.append([float(line) for line in lines])\n",
    "        \n",
    "sound1 = np.array(sound1)"
   ]
  },
  {
   "cell_type": "code",
   "execution_count": 3,
   "id": "521d904c",
   "metadata": {},
   "outputs": [],
   "source": [
    "sound2 = []\n",
    "with open('./sounds/sound2.dat', 'r') as f:\n",
    "    lines = f.readlines()    \n",
    "    sound2.append([float(line) for line in lines])\n",
    "        \n",
    "sound2 = np.array(sound2)"
   ]
  },
  {
   "cell_type": "code",
   "execution_count": 4,
   "id": "09859edd",
   "metadata": {},
   "outputs": [],
   "source": [
    "s = np.vstack((sound1,sound2))"
   ]
  },
  {
   "cell_type": "code",
   "execution_count": 5,
   "id": "fad48f0e",
   "metadata": {},
   "outputs": [
    {
     "data": {
      "text/plain": [
       "(2, 18000)"
      ]
     },
     "execution_count": 5,
     "metadata": {},
     "output_type": "execute_result"
    }
   ],
   "source": [
    "s.shape"
   ]
  },
  {
   "cell_type": "markdown",
   "id": "9f9ed705",
   "metadata": {},
   "source": [
    "### Part (b) \n",
    "Create a random (& invertible1) N * N mixing matrix A and mix the sources:\n",
    "\n",
    "\n",
    "x^(alpha) = A*s^(alpha) alpha = 1, ... ,p"
   ]
  },
  {
   "cell_type": "code",
   "execution_count": 6,
   "id": "44403b1e",
   "metadata": {},
   "outputs": [],
   "source": [
    "n = s.shape[0]\n",
    "m = s.shape[1]\n",
    "while 1:\n",
    "    A = np.random.rand(n,n)\n",
    "    if np.linalg.det(A)!=0:\n",
    "        break"
   ]
  },
  {
   "cell_type": "code",
   "execution_count": 7,
   "id": "c7ddbc1a",
   "metadata": {},
   "outputs": [],
   "source": [
    "# Mixing matrix\n",
    "x = A @ s"
   ]
  },
  {
   "cell_type": "markdown",
   "id": "ec1ba8fe",
   "metadata": {},
   "source": [
    "### Part (c)\n",
    "Remove the temporal structure by permuting randomly the columns of the N*p data matrix\n",
    "X = (x(1), ... , x(p)). Use this shuffled data in all subsequent steps."
   ]
  },
  {
   "cell_type": "code",
   "execution_count": 8,
   "id": "05390138",
   "metadata": {},
   "outputs": [],
   "source": [
    "# import itertools\n",
    "# import random\n",
    "\n",
    "# def I(n):\n",
    "#     A = []\n",
    "#     for i in range(n):\n",
    "#         A.append([1 if j == i else 0 for j in range(n)])\n",
    "#     return A\n",
    "\n",
    "# #tests:\n",
    "\n",
    "# A = I(m)\n",
    "# k = list(itertools.permutations(A))\n",
    "# shuffle = k[random.randint(0, m)]\n",
    "# shuffle\n",
    "\n",
    "# too big -> costly, stop kernel"
   ]
  },
  {
   "cell_type": "code",
   "execution_count": 9,
   "id": "acaa8ddf",
   "metadata": {},
   "outputs": [],
   "source": [
    "df = pd.DataFrame(x.T)\n",
    "df_shuffled=df.iloc[np.random.permutation(m)].reset_index(drop=True)\n",
    "\n",
    "df_shuffled = df_shuffled.T\n",
    "x = df_shuffled.to_numpy()"
   ]
  },
  {
   "cell_type": "code",
   "execution_count": 10,
   "id": "c1b69483",
   "metadata": {},
   "outputs": [
    {
     "data": {
      "text/plain": [
       "array([[ 0.24987803, -0.12343338, -0.51235042, ...,  0.47042662,\n",
       "        -0.11261515, -1.62259911],\n",
       "       [ 0.1944982 , -0.2933432 , -0.41097922, ...,  0.59038513,\n",
       "        -0.0704464 , -3.01432069]])"
      ]
     },
     "execution_count": 10,
     "metadata": {},
     "output_type": "execute_result"
    }
   ],
   "source": [
    "# Shuffled data\n",
    "x"
   ]
  },
  {
   "cell_type": "markdown",
   "id": "5a5c7a34",
   "metadata": {},
   "source": [
    "### Part (d) \n",
    "\n",
    "Calculate the correlations between the sources and the mixtures: \n",
    "\n",
    "<img src=\"img.png\">\n",
    "with covariance in the numerator and standard deviations in the denominator."
   ]
  },
  {
   "cell_type": "code",
   "execution_count": 12,
   "id": "f1d11503",
   "metadata": {},
   "outputs": [
    {
     "data": {
      "text/plain": [
       "array([[ 1.        ,  0.96118299, -0.00411107, -0.00177282],\n",
       "       [ 0.96118299,  1.        , -0.0024376 , -0.0023801 ],\n",
       "       [-0.00411107, -0.0024376 ,  1.        ,  0.0012604 ],\n",
       "       [-0.00177282, -0.0023801 ,  0.0012604 ,  1.        ]])"
      ]
     },
     "execution_count": 12,
     "metadata": {},
     "output_type": "execute_result"
    }
   ],
   "source": [
    "np.corrcoef(x, s)"
   ]
  },
  {
   "cell_type": "markdown",
   "id": "7cca018d",
   "metadata": {},
   "source": [
    "### Part (e) \n",
    "Center the data s.t. that each observed variable xi has zero mean."
   ]
  },
  {
   "cell_type": "code",
   "execution_count": 15,
   "id": "c940f363",
   "metadata": {},
   "outputs": [
    {
     "data": {
      "text/plain": [
       "(2, 18000)"
      ]
     },
     "execution_count": 15,
     "metadata": {},
     "output_type": "execute_result"
    }
   ],
   "source": [
    "x.shape"
   ]
  },
  {
   "cell_type": "code",
   "execution_count": 21,
   "id": "99a07ee3",
   "metadata": {},
   "outputs": [],
   "source": [
    "center_x = x - x.mean(axis=1)[:,np.newaxis]"
   ]
  },
  {
   "cell_type": "markdown",
   "id": "71914462",
   "metadata": {},
   "source": [
    "### Part (f) \n",
    "Initialize the unmixing matrix W with random values."
   ]
  },
  {
   "cell_type": "code",
   "execution_count": 22,
   "id": "0a1350ea",
   "metadata": {},
   "outputs": [
    {
     "data": {
      "text/plain": [
       "array([[0.27066114, 0.97110143],\n",
       "       [0.24323492, 0.36424175]])"
      ]
     },
     "execution_count": 22,
     "metadata": {},
     "output_type": "execute_result"
    }
   ],
   "source": [
    "while 1:\n",
    "    W = np.random.rand(n,n)\n",
    "    if np.linalg.det(W)!=0:\n",
    "        break\n",
    "W        "
   ]
  }
 ],
 "metadata": {
  "kernelspec": {
   "display_name": "Python 3",
   "language": "python",
   "name": "python3"
  },
  "language_info": {
   "codemirror_mode": {
    "name": "ipython",
    "version": 3
   },
   "file_extension": ".py",
   "mimetype": "text/x-python",
   "name": "python",
   "nbconvert_exporter": "python",
   "pygments_lexer": "ipython3",
   "version": "3.7.6"
  }
 },
 "nbformat": 4,
 "nbformat_minor": 5
}
