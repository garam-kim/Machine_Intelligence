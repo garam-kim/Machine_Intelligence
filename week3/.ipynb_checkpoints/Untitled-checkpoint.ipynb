{
 "cells": [
  {
   "cell_type": "code",
   "execution_count": 18,
   "id": "753c232b",
   "metadata": {},
   "outputs": [],
   "source": [
    "import numpy as np\n"
   ]
  },
  {
   "cell_type": "code",
   "execution_count": 51,
   "id": "1dfa53c7",
   "metadata": {},
   "outputs": [],
   "source": [
    "np.random.seed(10)\n",
    "\n",
    "sam1 = .1*np.random.randn(30,2)+[-.5 , -.2]\n",
    "sam2 = .1*np.random.randn(30,2)+[0, .6]\n",
    "sam3 = .1*np.random.randn(30,2)+[.5, 0]"
   ]
  },
  {
   "cell_type": "code",
   "execution_count": 59,
   "id": "cfaf6b63",
   "metadata": {},
   "outputs": [
    {
     "data": {
      "text/plain": [
       "(90, 2)"
      ]
     },
     "execution_count": 59,
     "metadata": {},
     "output_type": "execute_result"
    }
   ],
   "source": [
    "data = np.vstack((sam1,sam2,sam3))\n",
    "data.shape"
   ]
  },
  {
   "cell_type": "code",
   "execution_count": 60,
   "id": "52262182",
   "metadata": {},
   "outputs": [],
   "source": [
    "from scipy.spatial.distance import pdist, squareform\n",
    "  # this is an NxD matrix, where N is number of items and D its dimensionalites\n",
    "pairwise_dists = squareform(pdist(data, 'euclidean'))\n",
    "K = scip.exp(-pairwise_dists ** 2 / s ** 2)"
   ]
  },
  {
   "cell_type": "code",
   "execution_count": null,
   "id": "92e97920",
   "metadata": {},
   "outputs": [],
   "source": []
  }
 ],
 "metadata": {
  "kernelspec": {
   "display_name": "Python 3",
   "language": "python",
   "name": "python3"
  },
  "language_info": {
   "codemirror_mode": {
    "name": "ipython",
    "version": 3
   },
   "file_extension": ".py",
   "mimetype": "text/x-python",
   "name": "python",
   "nbconvert_exporter": "python",
   "pygments_lexer": "ipython3",
   "version": "3.7.6"
  }
 },
 "nbformat": 4,
 "nbformat_minor": 5
}
