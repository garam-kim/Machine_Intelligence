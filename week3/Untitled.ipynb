{
 "cells": [
  {
   "cell_type": "code",
   "execution_count": 77,
   "id": "6ff576c2",
   "metadata": {},
   "outputs": [],
   "source": [
    "import numpy as np\n",
    "import scipy\n",
    "import matplotlib.pyplot as plt\n",
    "\n",
    "import warnings\n",
    "warnings.filterwarnings('ignore')"
   ]
  },
  {
   "cell_type": "markdown",
   "id": "4322ce80",
   "metadata": {},
   "source": [
    "### Part (a)"
   ]
  },
  {
   "cell_type": "code",
   "execution_count": 70,
   "id": "d64e1e7f",
   "metadata": {},
   "outputs": [],
   "source": [
    "np.random.seed(10)\n",
    "\n",
    "sam1 = .1*np.random.randn(30,2)+[-.5 , -.2]\n",
    "sam2 = .1*np.random.randn(30,2)+[0, .6]\n",
    "sam3 = .1*np.random.randn(30,2)+[.5, 0]"
   ]
  },
  {
   "cell_type": "code",
   "execution_count": 71,
   "id": "9fc7e520",
   "metadata": {},
   "outputs": [
    {
     "data": {
      "text/plain": [
       "(90, 2)"
      ]
     },
     "execution_count": 71,
     "metadata": {},
     "output_type": "execute_result"
    }
   ],
   "source": [
    "data = np.vstack((sam1,sam2,sam3))\n",
    "data.shape"
   ]
  },
  {
   "cell_type": "code",
   "execution_count": 87,
   "id": "8b4f05d4",
   "metadata": {},
   "outputs": [
    {
     "data": {
      "image/png": "[encoded data removed]",
      "text/plain": [
       "<Figure size 432x288 with 1 Axes>"
      ]
     },
     "metadata": {
      "needs_background": "light"
     },
     "output_type": "display_data"
    }
   ],
   "source": [
    "# plot 3 data samples\n",
    "plt.scatter(sam1[:,0],sam1[:,1])\n",
    "plt.scatter(sam2[:,0],sam2[:,1])\n",
    "plt.scatter(sam3[:,0],sam3[:,1])\n",
    "plt.grid()"
   ]
  },
  {
   "cell_type": "code",
   "execution_count": 90,
   "id": "6074f7be",
   "metadata": {},
   "outputs": [
    {
     "data": {
      "text/plain": [
       "array([-6.66133815e-17, -6.78469626e-18])"
      ]
     },
     "execution_count": 90,
     "metadata": {},
     "output_type": "execute_result"
    }
   ],
   "source": [
    "# centered the data\n",
    "data = data-data.mean(axis=0)"
   ]
  },
  {
   "cell_type": "code",
   "execution_count": null,
   "id": "655ed76e",
   "metadata": {},
   "outputs": [],
   "source": []
  },
  {
   "cell_type": "markdown",
   "id": "0ba3d28c",
   "metadata": {},
   "source": [
    "### Part (b)"
   ]
  },
  {
   "cell_type": "code",
   "execution_count": 72,
   "id": "e68ebad2",
   "metadata": {},
   "outputs": [],
   "source": [
    "# set sigma\n",
    "s = 1"
   ]
  },
  {
   "cell_type": "code",
   "execution_count": 74,
   "id": "1b2e74b0",
   "metadata": {},
   "outputs": [],
   "source": [
    "from scipy.spatial.distance import pdist, squareform\n",
    "  # this is an NxD matrix, where N is number of items and D its dimensionalites\n",
    "pairwise_dists = squareform(pdist(data, 'euclidean'))\n",
    "K = scipy.exp(-pairwise_dists ** 2 / s ** 2)"
   ]
  },
  {
   "cell_type": "code",
   "execution_count": 75,
   "id": "9707e3b1",
   "metadata": {},
   "outputs": [
    {
     "name": "stdout",
     "output_type": "stream",
     "text": [
      "eigenvalue :\n",
      " [ 5.60795555e+01+0.00000000e+00j  1.93277865e+01+0.00000000e+00j\n",
      "  1.25808314e+01+0.00000000e+00j  8.66225294e-01+0.00000000e+00j\n",
      "  4.47263569e-01+0.00000000e+00j  4.04114760e-01+0.00000000e+00j\n",
      "  1.33450997e-01+0.00000000e+00j  8.72183307e-02+0.00000000e+00j\n",
      "  4.79920196e-02+0.00000000e+00j  1.21765208e-02+0.00000000e+00j\n",
      "  5.46413283e-03+0.00000000e+00j  2.90439053e-03+0.00000000e+00j\n",
      "  2.28451382e-03+0.00000000e+00j  1.23267807e-03+0.00000000e+00j\n",
      "  6.36830656e-04+0.00000000e+00j  4.54019294e-04+0.00000000e+00j\n",
      "  2.13683771e-04+0.00000000e+00j  1.04637638e-04+0.00000000e+00j\n",
      "  4.22267918e-05+0.00000000e+00j  1.53562551e-05+0.00000000e+00j\n",
      "  1.51017279e-05+0.00000000e+00j  7.22763679e-06+0.00000000e+00j\n",
      "  5.82335605e-06+0.00000000e+00j  1.90003250e-06+0.00000000e+00j\n",
      "  1.00259689e-06+0.00000000e+00j  6.47925835e-07+0.00000000e+00j\n",
      "  3.99446528e-07+0.00000000e+00j  3.22579070e-07+0.00000000e+00j\n",
      "  1.19780986e-07+0.00000000e+00j  6.98744361e-08+0.00000000e+00j\n",
      "  4.33798935e-08+0.00000000e+00j  2.34416441e-08+0.00000000e+00j\n",
      "  9.96052715e-09+0.00000000e+00j  4.74455779e-09+0.00000000e+00j\n",
      "  4.35949059e-09+0.00000000e+00j  2.25225957e-09+0.00000000e+00j\n",
      "  1.48585923e-09+0.00000000e+00j  9.67908210e-10+0.00000000e+00j\n",
      "  3.32337033e-10+0.00000000e+00j  1.67923446e-10+0.00000000e+00j\n",
      "  9.82172638e-11+0.00000000e+00j  7.20767927e-11+0.00000000e+00j\n",
      "  3.89427138e-11+0.00000000e+00j  3.16739681e-11+0.00000000e+00j\n",
      "  2.53400469e-11+0.00000000e+00j  1.75886409e-11+0.00000000e+00j\n",
      "  6.60664839e-12+0.00000000e+00j  2.61092443e-12+0.00000000e+00j\n",
      "  2.23568791e-12+0.00000000e+00j  1.29094883e-12+0.00000000e+00j\n",
      "  4.94338770e-13+0.00000000e+00j  3.87706493e-13+0.00000000e+00j\n",
      "  2.79631163e-13+0.00000000e+00j  1.62562453e-13+0.00000000e+00j\n",
      "  8.96332553e-14+0.00000000e+00j  6.65469872e-14+0.00000000e+00j\n",
      "  2.84295180e-14+0.00000000e+00j  1.01512359e-14+0.00000000e+00j\n",
      "  5.02642860e-15+0.00000000e+00j  3.95583119e-15+0.00000000e+00j\n",
      "  2.65080413e-15+0.00000000e+00j  2.24014785e-15+0.00000000e+00j\n",
      "  1.41308423e-15+0.00000000e+00j  1.04171147e-15+0.00000000e+00j\n",
      "  6.43990309e-16+0.00000000e+00j  6.39130260e-16+0.00000000e+00j\n",
      "  4.36354254e-16+7.44959981e-17j  4.36354254e-16-7.44959981e-17j\n",
      " -4.36582097e-16+0.00000000e+00j -3.28483838e-16+0.00000000e+00j\n",
      " -2.32593257e-16+1.88650324e-16j -2.32593257e-16-1.88650324e-16j\n",
      "  3.02011509e-16+0.00000000e+00j -2.83843712e-16+0.00000000e+00j\n",
      "  2.19925255e-16+8.66694867e-17j  2.19925255e-16-8.66694867e-17j\n",
      " -2.18159661e-16+0.00000000e+00j -8.27598557e-17+1.38096286e-16j\n",
      " -8.27598557e-17-1.38096286e-16j -1.63340964e-16+0.00000000e+00j\n",
      "  9.06521945e-17+1.09961201e-16j  9.06521945e-17-1.09961201e-16j\n",
      "  1.31717931e-16+1.35063763e-17j  1.31717931e-16-1.35063763e-17j\n",
      "  3.30101217e-17+4.70874717e-17j  3.30101217e-17-4.70874717e-17j\n",
      "  2.89927881e-17+2.29782564e-17j  2.89927881e-17-2.29782564e-17j\n",
      " -4.90090314e-17+0.00000000e+00j -7.69584779e-17+0.00000000e+00j]\n",
      "\n",
      "eigenvector :\n",
      " [[-1.07703049e-01+0.j          1.28599623e-01+0.j\n",
      "  -3.23041578e-02+0.j         ...  3.00053075e-04+0.01650396j\n",
      "  -3.74765451e-02+0.j         -1.47023025e-02+0.j        ]\n",
      " [-8.48920930e-02+0.j          1.66682754e-01+0.j\n",
      "  -3.39976692e-02+0.j         ... -1.61104972e-03-0.00199973j\n",
      "   2.34840358e-03+0.j         -8.19957000e-03+0.j        ]\n",
      " [-9.60556853e-02+0.j          1.48942723e-01+0.j\n",
      "  -5.53646341e-02+0.j         ...  9.00278773e-03+0.00564738j\n",
      "  -2.89179859e-02+0.j         -3.62277138e-02+0.j        ]\n",
      " ...\n",
      " [-1.12486044e-01+0.j         -8.28485787e-02+0.j\n",
      "  -1.07442705e-01+0.j         ... -9.13841305e-02-0.0565965j\n",
      "   1.06388494e-01+0.j         -1.13114940e-01+0.j        ]\n",
      " [-1.06449675e-01+0.j         -1.07341193e-01+0.j\n",
      "  -1.03859789e-01+0.j         ... -2.22197733e-01-0.0701944j\n",
      "   3.16873334e-01+0.j          2.08820079e-01+0.j        ]\n",
      " [-1.00544727e-01+0.j         -1.06450539e-01+0.j\n",
      "  -1.27802501e-01+0.j         ...  3.88714862e-02+0.00164624j\n",
      "  -2.83005108e-02+0.j         -4.08650368e-02+0.j        ]]\n"
     ]
    }
   ],
   "source": [
    "eigen_val, eigen_vec = np.linalg.eig(K)\n",
    "print('eigenvalue :\\n', eigen_val)\n",
    "print('\\neigenvector :\\n', eigen_vec)"
   ]
  },
  {
   "cell_type": "code",
   "execution_count": 76,
   "id": "260da8e6",
   "metadata": {},
   "outputs": [
    {
     "data": {
      "text/plain": [
       "(56.07955546949762+0j)"
      ]
     },
     "execution_count": 76,
     "metadata": {},
     "output_type": "execute_result"
    }
   ],
   "source": [
    "eigen_val[0]"
   ]
  },
  {
   "cell_type": "code",
   "execution_count": null,
   "id": "19672dc4",
   "metadata": {},
   "outputs": [],
   "source": []
  }
 ],
 "metadata": {
  "kernelspec": {
   "display_name": "Python 3",
   "language": "python",
   "name": "python3"
  },
  "language_info": {
   "codemirror_mode": {
    "name": "ipython",
    "version": 3
   },
   "file_extension": ".py",
   "mimetype": "text/x-python",
   "name": "python",
   "nbconvert_exporter": "python",
   "pygments_lexer": "ipython3",
   "version": "3.7.6"
  }
 },
 "nbformat": 4,
 "nbformat_minor": 5
}
