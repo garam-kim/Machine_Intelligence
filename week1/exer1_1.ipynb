{
 "cells": [
  {
   "cell_type": "markdown",
   "id": "f0560c29",
   "metadata": {},
   "source": [
    "## Exer 1.1: PCA: 2-dimensional Toy Data"
   ]
  },
  {
   "cell_type": "code",
   "execution_count": 1,
   "id": "c264b559",
   "metadata": {},
   "outputs": [],
   "source": [
    "import numpy as np\n",
    "import matplotlib.pyplot as plt"
   ]
  },
  {
   "cell_type": "markdown",
   "id": "f9a990fd",
   "metadata": {},
   "source": [
    "### part (a) \n",
    "Load the dataset pca-data-2d.dat and create a scatter plot of the centered data."
   ]
  },
  {
   "cell_type": "code",
   "execution_count": 2,
   "id": "5ff0e5c8",
   "metadata": {},
   "outputs": [],
   "source": [
    "data = []\n",
    "with open('pca-data-2d.dat', 'r') as f:\n",
    "    lines = f.readlines()\n",
    "    for line in lines:\n",
    "        k = line.rstrip().split()\n",
    "        data.append([float(d) for d in k])\n",
    "        \n",
    "data = np.array(data)\n"
   ]
  },
  {
   "cell_type": "code",
   "execution_count": 3,
   "id": "6b1f3ff4",
   "metadata": {},
   "outputs": [
    {
     "data": {
      "text/plain": [
       "array([[ 0.49, -0.69],\n",
       "       [-1.21,  1.31],\n",
       "       [ 0.99, -0.39],\n",
       "       [ 0.29, -0.09],\n",
       "       [ 1.09, -1.29],\n",
       "       [ 0.79, -0.49],\n",
       "       [-0.31, -0.19],\n",
       "       [-0.81,  0.81],\n",
       "       [-0.31,  0.31],\n",
       "       [-1.01,  0.71]])"
      ]
     },
     "execution_count": 3,
     "metadata": {},
     "output_type": "execute_result"
    }
   ],
   "source": [
    "c_data = data - np.mean(data,axis=0)\n",
    "c_data"
   ]
  },
  {
   "cell_type": "code",
   "execution_count": 4,
   "id": "e1dbd436",
   "metadata": {},
   "outputs": [
    {
     "data": {
      "image/png": "[encoded data removed]",
      "text/plain": [
       "<Figure size 432x288 with 1 Axes>"
      ]
     },
     "metadata": {
      "needs_background": "light"
     },
     "output_type": "display_data"
    }
   ],
   "source": [
    "plt.scatter(c_data[:,0], c_data[:,1],color = 'b')\n",
    "plt.grid()\n",
    "plt.xlabel(r'$x_1$', fontsize=20);\n",
    "plt.ylabel(r'$x_2$', fontsize=20, rotation='horizontal');\n",
    "plt.axhline(0, color='black');\n",
    "plt.axvline(0, color='black');"
   ]
  },
  {
   "cell_type": "code",
   "execution_count": null,
   "id": "1d20a46f",
   "metadata": {},
   "outputs": [],
   "source": []
  },
  {
   "cell_type": "code",
   "execution_count": null,
   "id": "a92ee26c",
   "metadata": {},
   "outputs": [],
   "source": []
  },
  {
   "cell_type": "markdown",
   "id": "58de8e07",
   "metadata": {},
   "source": [
    "### part (b)\n",
    "Determine the Principal Components (PCs) and create another scatter plot of the same data points in the coordinate system spanned by the 2 PCs."
   ]
  },
  {
   "cell_type": "code",
   "execution_count": 5,
   "id": "db039563",
   "metadata": {},
   "outputs": [],
   "source": [
    "# Standardize data\n",
    "c_data = c_data/np.std(c_data,axis=0)"
   ]
  },
  {
   "cell_type": "code",
   "execution_count": 6,
   "id": "73f46584",
   "metadata": {},
   "outputs": [
    {
     "data": {
      "text/plain": [
       "array([[ 1.11111111, -1.0288103 ],\n",
       "       [-1.0288103 ,  1.11111111]])"
      ]
     },
     "execution_count": 6,
     "metadata": {},
     "output_type": "execute_result"
    }
   ],
   "source": [
    "# Cov matrix\n",
    "cov_data = np.cov(c_data.T)\n",
    "cov_data"
   ]
  },
  {
   "cell_type": "code",
   "execution_count": 7,
   "id": "cb630166",
   "metadata": {},
   "outputs": [
    {
     "name": "stdout",
     "output_type": "stream",
     "text": [
      "eigenvalue :\n",
      " [2.13992141 0.08230081]\n",
      "\n",
      "eigenvector :\n",
      " [[ 0.70710678  0.70710678]\n",
      " [-0.70710678  0.70710678]]\n"
     ]
    }
   ],
   "source": [
    "# Eigendecomposition\n",
    "eigen_val, eigen_vec = np.linalg.eig(cov_data)\n",
    "print('eigenvalue :\\n', eigen_val)\n",
    "print('\\neigenvector :\\n', eigen_vec)"
   ]
  },
  {
   "cell_type": "code",
   "execution_count": 8,
   "id": "27e13e24",
   "metadata": {},
   "outputs": [
    {
     "name": "stdout",
     "output_type": "stream",
     "text": [
      "PC1 explains 96 % of the data\n"
     ]
    }
   ],
   "source": [
    "print('PC1 explains', round(eigen_val[0]/sum(eigen_val)*100), '% of the data')"
   ]
  },
  {
   "cell_type": "code",
   "execution_count": 16,
   "id": "0c9469ad",
   "metadata": {},
   "outputs": [
    {
     "data": {
      "image/png": "[encoded data removed]",
      "text/plain": [
       "<Figure size 720x360 with 2 Axes>"
      ]
     },
     "metadata": {
      "needs_background": "light"
     },
     "output_type": "display_data"
    }
   ],
   "source": [
    "fig, axs = plt.subplots(1,2,figsize=(10,5))\n",
    "colors = ['b', 'r']\n",
    "plot_colors = ['g--','y--']\n",
    "\n",
    "for j in range(2):\n",
    "    # project  \n",
    "    a = c_data.dot(eigen_vec[j])\n",
    "    e = eigen_vec[j][:,np.newaxis]\n",
    "    x = (a * e).T\n",
    "    \n",
    "    plt.sca(axs[j])\n",
    "    plt.scatter(x[:,0], x[:,1],color = colors[j])\n",
    "    plt.scatter(c_data[:,0], c_data[:,1],color = 'k')\n",
    "    plt.grid()\n",
    "    \n",
    "    plt.xlabel(r'$x_1$', fontsize=20);\n",
    "    plt.ylabel(r'$x_2$', fontsize=20, rotation='horizontal');\n",
    "    \n",
    "    h = np.arange(-2,2,.1)\n",
    "    i = eigen_vec[j][1]/eigen_vec[j][0]\n",
    "    plt.plot(h, i*h,plot_colors[j])\n",
    "    \n",
    "    plt.axvline(0, color='black');\n",
    "    plt.axhline(0, color='black');"
   ]
  },
  {
   "cell_type": "code",
   "execution_count": 10,
   "id": "7f8d5d90",
   "metadata": {},
   "outputs": [],
   "source": [
    "# rotate whole data\n",
    "# create rotation matrix\n",
    "theta = np.arctan2(eigen_vec[0][1],eigen_vec[0][0])\n",
    "\n",
    "r = np.array(( (np.cos(theta), -np.sin(theta)),\n",
    "               (np.sin(theta),  np.cos(theta)) ))"
   ]
  },
  {
   "cell_type": "code",
   "execution_count": 11,
   "id": "871e15fe",
   "metadata": {},
   "outputs": [],
   "source": [
    "# projection data\n",
    "# z3 = a1 * e1\n",
    "#    = <e1,x> * e1\n",
    "\n",
    "z3 = (c_data.dot(eigen_vec[0]) * eigen_vec[0][:,np.newaxis]).T\n",
    "z4 = (c_data.dot(eigen_vec[1]) * eigen_vec[1][:,np.newaxis]).T"
   ]
  },
  {
   "cell_type": "code",
   "execution_count": 12,
   "id": "a47a165f",
   "metadata": {},
   "outputs": [
    {
     "data": {
      "image/png": "[encoded data removed]",
      "text/plain": [
       "<Figure size 432x288 with 1 Axes>"
      ]
     },
     "metadata": {
      "needs_background": "light"
     },
     "output_type": "display_data"
    }
   ],
   "source": [
    "a1 = z3 @ r\n",
    "a2 = z4 @ r\n",
    "\n",
    "plt.scatter(a1[:,0], a1[:,1],color = 'b')\n",
    "plt.scatter(a2[:,0], a2[:,1],color = 'c')\n",
    "axes = plt.gca()\n",
    "axes.set_xlim([-2.5,2.5])\n",
    "axes.set_ylim([-2.5,2.5])\n",
    "plt.grid()\n",
    "plt.axvline(0, color='black');\n",
    "plt.axhline(0, color='black');"
   ]
  },
  {
   "cell_type": "code",
   "execution_count": 13,
   "id": "a7f7a59e",
   "metadata": {},
   "outputs": [],
   "source": [
    "# plt.figure(figsize=(7,7))\n",
    "# plt.scatter(z3[:,0], z3[:,1],color = 'c')\n",
    "# plt.scatter(z4[:,0], z4[:,1],color = 'r')\n",
    "# plt.scatter(c_data[:,0], c_data[:,1],color = 'k')\n",
    "# plt.grid()\n",
    "# plt.xlabel(r'$x_1$', fontsize=20);\n",
    "# plt.ylabel(r'$x_2$', fontsize=20, rotation='horizontal');\n",
    "# plt.axhline(0, color='black');\n",
    "# plt.axvline(0, color='black');\n",
    "# x_val = [0, eigen_vec[0][0]]\n",
    "# y_val = [0, eigen_vec[0][1]]\n",
    "\n",
    "# x = np.arange(-2,2,.1)\n",
    "# i = eigen_vec[0][1]/eigen_vec[0][0]\n",
    "# plt.plot(x, i*x,'g--')\n",
    "# i = eigen_vec[1][1]/eigen_vec[1][0]\n",
    "# plt.plot(x, i*x,'y--')"
   ]
  },
  {
   "cell_type": "markdown",
   "id": "14417140",
   "metadata": {},
   "source": [
    "### part (c) \n",
    "PCA can be used to compress data e.g. using only information contained in the first M out of N PCs. Plot the reconstruction of the data in the original coordinate system when using\n",
    "(i) only the first or (ii) only the second PC for reconstruction."
   ]
  },
  {
   "cell_type": "code",
   "execution_count": 15,
   "id": "db0e9e51",
   "metadata": {},
   "outputs": [
    {
     "data": {
      "image/png": "[encoded data removed]",
      "text/plain": [
       "<Figure size 648x288 with 2 Axes>"
      ]
     },
     "metadata": {
      "needs_background": "light"
     },
     "output_type": "display_data"
    }
   ],
   "source": [
    "fig, axs = plt.subplots(1,2,figsize=(9,4))\n",
    "colors = ['b', 'r']\n",
    "for j in range(2):\n",
    "    # reconstruction x = a1*e1 + a2*e2\n",
    "    a = c_data.dot(eigen_vec[j])\n",
    "    e = eigen_vec[j][:,np.newaxis]\n",
    "    x = (a * e).T\n",
    "    \n",
    "    plt.sca(axs[j])\n",
    "    plt.scatter(x[:,0], x[:,1],color = colors[j])\n",
    "    plt.scatter(c_data[:,0], c_data[:,1],color = 'k')\n",
    "    \n",
    "    plt.xlabel(r'$x_1$', fontsize=20);\n",
    "    plt.ylabel(r'$x_2$', fontsize=20, rotation='horizontal');\n",
    "    plt.axhline(0, color='black');\n",
    "    plt.grid()\n",
    "    axes = plt.gca()\n",
    "    axes.set_xlim([-2.5,2.5])\n",
    "    axes.set_ylim([-2.5,2.5])"
   ]
  },
  {
   "cell_type": "code",
   "execution_count": null,
   "id": "12ce08f1",
   "metadata": {},
   "outputs": [],
   "source": []
  }
 ],
 "metadata": {
  "kernelspec": {
   "display_name": "Python 3",
   "language": "python",
   "name": "python3"
  },
  "language_info": {
   "codemirror_mode": {
    "name": "ipython",
    "version": 3
   },
   "file_extension": ".py",
   "mimetype": "text/x-python",
   "name": "python",
   "nbconvert_exporter": "python",
   "pygments_lexer": "ipython3",
   "version": "3.7.6"
  }
 },
 "nbformat": 4,
 "nbformat_minor": 5
}
