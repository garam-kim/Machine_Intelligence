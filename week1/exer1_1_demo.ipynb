{
 "cells": [
  {
   "cell_type": "markdown",
   "id": "f0560c29",
   "metadata": {},
   "source": [
    "## Exer 1.1: PCA: 2-dimensional Toy Data"
   ]
  },
  {
   "cell_type": "code",
   "execution_count": 1,
   "id": "c264b559",
   "metadata": {},
   "outputs": [],
   "source": [
    "import numpy as np\n",
    "import matplotlib.pyplot as plt"
   ]
  },
  {
   "cell_type": "markdown",
   "id": "f9a990fd",
   "metadata": {},
   "source": [
    "(a) Load the dataset pca-data-2d.dat and create a scatter plot of the centered data."
   ]
  },
  {
   "cell_type": "code",
   "execution_count": 2,
   "id": "5ff0e5c8",
   "metadata": {},
   "outputs": [],
   "source": [
    "data = []\n",
    "with open('pca-data-2d.dat', 'r') as f:\n",
    "    lines = f.readlines()\n",
    "    for line in lines:\n",
    "        k = line.rstrip().split()\n",
    "        data.append([float(d) for d in k])\n",
    "        \n",
    "data = np.array(data)\n"
   ]
  },
  {
   "cell_type": "code",
   "execution_count": 3,
   "id": "6b1f3ff4",
   "metadata": {},
   "outputs": [
    {
     "data": {
      "text/plain": [
       "array([[ 0.49, -0.69],\n",
       "       [-1.21,  1.31],\n",
       "       [ 0.99, -0.39],\n",
       "       [ 0.29, -0.09],\n",
       "       [ 1.09, -1.29],\n",
       "       [ 0.79, -0.49],\n",
       "       [-0.31, -0.19],\n",
       "       [-0.81,  0.81],\n",
       "       [-0.31,  0.31],\n",
       "       [-1.01,  0.71]])"
      ]
     },
     "execution_count": 3,
     "metadata": {},
     "output_type": "execute_result"
    }
   ],
   "source": [
    "c_data = data - np.mean(data,axis=0)\n",
    "c_data"
   ]
  },
  {
   "cell_type": "code",
   "execution_count": 5,
   "id": "e1dbd436",
   "metadata": {},
   "outputs": [
    {
     "data": {
      "image/png": "[encoded data removed]",
      "text/plain": [
       "<Figure size 432x288 with 1 Axes>"
      ]
     },
     "metadata": {
      "needs_background": "light"
     },
     "output_type": "display_data"
    }
   ],
   "source": [
    "plt.scatter(c_data[:,0], c_data[:,1],color = 'b')\n",
    "plt.grid()\n",
    "plt.xlabel(r'$x_1$', fontsize=20);\n",
    "plt.ylabel(r'$x_2$', fontsize=20, rotation='horizontal');\n",
    "plt.axhline(0, color='black');\n",
    "plt.axvline(0, color='black');"
   ]
  },
  {
   "cell_type": "markdown",
   "id": "58de8e07",
   "metadata": {},
   "source": [
    "(b) Determine the Principal Components (PCs) and create another scatter plot of the same data points in the coordinate system spanned by the 2 PCs."
   ]
  },
  {
   "cell_type": "code",
   "execution_count": 6,
   "id": "73f46584",
   "metadata": {},
   "outputs": [],
   "source": [
    "# Cov matrix\n",
    "cov_data = np.cov(c_data.T)"
   ]
  },
  {
   "cell_type": "code",
   "execution_count": 7,
   "id": "cb630166",
   "metadata": {},
   "outputs": [
    {
     "name": "stdout",
     "output_type": "stream",
     "text": [
      "eigenvalue :\n",
      " [1.28402771 0.0490834 ]\n",
      "\n",
      "eigenvector :\n",
      " [[ 0.73517866  0.6778734 ]\n",
      " [-0.6778734   0.73517866]]\n"
     ]
    }
   ],
   "source": [
    "# Eigendecomposition\n",
    "eigen_val, eigen_vec = np.linalg.eig(cov_data)\n",
    "print('eigenvalue :\\n', eigen_val)\n",
    "print('\\neigenvector :\\n', eigen_vec)"
   ]
  },
  {
   "cell_type": "code",
   "execution_count": 8,
   "id": "d75c8cf7",
   "metadata": {},
   "outputs": [],
   "source": [
    "# projection to eigenvetors\n",
    "z3 = eigen_vec[0] * c_data\n",
    "z4 = eigen_vec[1] * c_data"
   ]
  },
  {
   "cell_type": "code",
   "execution_count": 9,
   "id": "78c0e2e7",
   "metadata": {},
   "outputs": [
    {
     "data": {
      "image/png": "[encoded data removed]",
      "text/plain": [
       "<Figure size 432x288 with 1 Axes>"
      ]
     },
     "metadata": {
      "needs_background": "light"
     },
     "output_type": "display_data"
    }
   ],
   "source": [
    "plt.scatter(z3[:,0], z3[:,1],color = 'b')\n",
    "plt.scatter(z4[:,0], z4[:,1],color = 'r')\n",
    "plt.grid()\n",
    "plt.xlabel(r'$x_1$', fontsize=20);\n",
    "plt.ylabel(r'$x_2$', fontsize=20, rotation='horizontal');\n",
    "plt.axhline(0, color='black');\n",
    "plt.axvline(0, color='black');"
   ]
  },
  {
   "cell_type": "code",
   "execution_count": 10,
   "id": "32c46fd6",
   "metadata": {},
   "outputs": [
    {
     "data": {
      "text/plain": [
       "array([-0.6778734 ,  0.73517866])"
      ]
     },
     "execution_count": 10,
     "metadata": {},
     "output_type": "execute_result"
    }
   ],
   "source": [
    "eigen_vec[1]"
   ]
  },
  {
   "cell_type": "code",
   "execution_count": 11,
   "id": "5fd5dd29",
   "metadata": {},
   "outputs": [
    {
     "data": {
      "image/png": "[encoded data removed]",
      "text/plain": [
       "<Figure size 648x288 with 2 Axes>"
      ]
     },
     "metadata": {
      "needs_background": "light"
     },
     "output_type": "display_data"
    }
   ],
   "source": [
    "fig, axs = plt.subplots(1,2,figsize=(9,4))\n",
    "colors = ['b', 'r']\n",
    "for j in range(2):\n",
    "    data = []\n",
    "    data.append([np.matmul(eigen_vec[j].T ,c_data[i]) for i in range(10)])\n",
    "    plt.sca(axs[j])\n",
    "    plt.scatter(data, np.zeros(10),color = colors[j])\n",
    "    plt.xlabel(r'$x_1$', fontsize=20);\n",
    "   # plt.ylabel(r'$x_2$', fontsize=20, rotation='horizontal');\n",
    "    plt.axhline(0, color='black');"
   ]
  },
  {
   "cell_type": "markdown",
   "id": "14417140",
   "metadata": {},
   "source": [
    "(c) PCA can be used to compress data e.g. using only information contained in the first M out of N PCs. Plot the reconstruction of the data in the original coordinate system when using\n",
    "(i) only the first or (ii) only the second PC for reconstruction."
   ]
  },
  {
   "cell_type": "code",
   "execution_count": 13,
   "id": "db0e9e51",
   "metadata": {},
   "outputs": [
    {
     "data": {
      "image/png": "[encoded data removed]",
      "text/plain": [
       "<Figure size 648x288 with 2 Axes>"
      ]
     },
     "metadata": {
      "needs_background": "light"
     },
     "output_type": "display_data"
    }
   ],
   "source": [
    "fig, axs = plt.subplots(1,2,figsize=(9,4))\n",
    "colors = ['b', 'r']\n",
    "for j in range(2):\n",
    "    z = []\n",
    "    z.append([np.matmul(c_data[i], eigen_vec[j].T) for i in range(10)])\n",
    "    # reconstruction x = XVV.T\n",
    "    data = (eigen_vec[j][:,np.newaxis] *  z ).T\n",
    "    plt.sca(axs[j])\n",
    "    plt.scatter(data[:,0], data[:,1],color = colors[j])\n",
    "    plt.xlabel(r'$x_1$', fontsize=20);\n",
    "    plt.ylabel(r'$x_2$', fontsize=20, rotation='horizontal');\n",
    "    plt.axhline(0, color='black');\n",
    "    plt.grid()"
   ]
  },
  {
   "cell_type": "code",
   "execution_count": null,
   "id": "12ce08f1",
   "metadata": {},
   "outputs": [],
   "source": []
  }
 ],
 "metadata": {
  "kernelspec": {
   "display_name": "Python 3",
   "language": "python",
   "name": "python3"
  },
  "language_info": {
   "codemirror_mode": {
    "name": "ipython",
    "version": 3
   },
   "file_extension": ".py",
   "mimetype": "text/x-python",
   "name": "python",
   "nbconvert_exporter": "python",
   "pygments_lexer": "ipython3",
   "version": "3.7.6"
  }
 },
 "nbformat": 4,
 "nbformat_minor": 5
}
