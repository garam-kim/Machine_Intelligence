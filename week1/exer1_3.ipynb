{
 "cells": [
  {
   "cell_type": "code",
   "execution_count": 25,
   "id": "7b03b41b",
   "metadata": {},
   "outputs": [],
   "source": [
    "import numpy as np\n",
    "import matplotlib.pyplot as plt\n",
    "import pandas as pd"
   ]
  },
  {
   "cell_type": "markdown",
   "id": "b81b9242",
   "metadata": {},
   "source": [
    "Using the data from the file expDat.txt, we can interpret the data as describing the process\n",
    "of a “large” system with d=20 dimensions at each timepoint (cf. Exercise Sheet 00b)."
   ]
  },
  {
   "cell_type": "code",
   "execution_count": 26,
   "id": "49c4f8e9",
   "metadata": {},
   "outputs": [],
   "source": [
    "df = pd.read_csv('expDat.txt', delimiter = \",\")\n",
    "del df[df.columns[0]]"
   ]
  },
  {
   "cell_type": "markdown",
   "id": "4eba1a92",
   "metadata": {},
   "source": [
    "### part (a) \n",
    "Find the 20 Principal Components of this dataset."
   ]
  },
  {
   "cell_type": "code",
   "execution_count": null,
   "id": "e43e314b",
   "metadata": {},
   "outputs": [],
   "source": []
  }
 ],
 "metadata": {
  "kernelspec": {
   "display_name": "Python 3",
   "language": "python",
   "name": "python3"
  },
  "language_info": {
   "codemirror_mode": {
    "name": "ipython",
    "version": 3
   },
   "file_extension": ".py",
   "mimetype": "text/x-python",
   "name": "python",
   "nbconvert_exporter": "python",
   "pygments_lexer": "ipython3",
   "version": "3.7.6"
  }
 },
 "nbformat": 4,
 "nbformat_minor": 5
}
